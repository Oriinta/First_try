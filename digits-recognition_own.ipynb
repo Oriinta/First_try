{
  "nbformat": 4,
  "nbformat_minor": 0,
  "metadata": {
    "colab": {
      "name": "Digits Recognition_Own.ipynb",
      "provenance": [],
      "collapsed_sections": [],
      "include_colab_link": true
    },
    "kernelspec": {
      "name": "python3",
      "display_name": "Python 3"
    },
    "accelerator": "GPU"
  },
  "cells": [
    {
      "cell_type": "markdown",
      "metadata": {
        "id": "view-in-github",
        "colab_type": "text"
      },
      "source": [
        "<a href=\"https://colab.research.google.com/gist/Oriinta/1eed156ca579bc0a43108b626d66821a/digits-recognition_own.ipynb\" target=\"_parent\"><img src=\"https://colab.research.google.com/assets/colab-badge.svg\" alt=\"Open In Colab\"/></a>"
      ]
    },
    {
      "cell_type": "markdown",
      "metadata": {
        "id": "_0MluGyDkXLx",
        "colab_type": "text"
      },
      "source": [
        "## **Проект - распознавание рукописных цифр на основе сети LeNet**\n",
        "##(прописать все слои вручную + модицифировать для улучшения результата)"
      ]
    },
    {
      "cell_type": "code",
      "metadata": {
        "id": "85_HkTjcNZeg",
        "colab_type": "code",
        "colab": {}
      },
      "source": [
        "#Подгружаем библиотеки и фиксируем рандом для получения одинаковых результатов\n",
        "import torch\n",
        "import random\n",
        "import numpy as np\n",
        "\n",
        "random.seed(0)\n",
        "np.random.seed(0)\n",
        "torch.manual_seed(0)\n",
        "torch.cuda.manual_seed(0)\n",
        "torch.backends.cudnn.deterministic = True"
      ],
      "execution_count": 0,
      "outputs": []
    },
    {
      "cell_type": "code",
      "metadata": {
        "id": "kjPVw9UfNZel",
        "colab_type": "code",
        "colab": {}
      },
      "source": [
        "#Подгружаем датасет рукописных чисел\n",
        "import torchvision.datasets\n",
        "MNIST_train = torchvision.datasets.MNIST('./', download=True, train=True)\n",
        "MNIST_test = torchvision.datasets.MNIST('./', download=True, train=False)"
      ],
      "execution_count": 0,
      "outputs": []
    },
    {
      "cell_type": "code",
      "metadata": {
        "id": "nyrpGOtPNZeq",
        "colab_type": "code",
        "outputId": "c5922ad9-de1d-423a-eb31-a576c293afe3",
        "colab": {
          "base_uri": "https://localhost:8080/",
          "height": 158
        }
      },
      "source": [
        "X_train = MNIST_train.train_data\n",
        "y_train = MNIST_train.train_labels\n",
        "X_test = MNIST_test.test_data\n",
        "y_test = MNIST_test.test_labels"
      ],
      "execution_count": 3,
      "outputs": [
        {
          "output_type": "stream",
          "text": [
            "/usr/local/lib/python3.6/dist-packages/torchvision/datasets/mnist.py:55: UserWarning: train_data has been renamed data\n",
            "  warnings.warn(\"train_data has been renamed data\")\n",
            "/usr/local/lib/python3.6/dist-packages/torchvision/datasets/mnist.py:45: UserWarning: train_labels has been renamed targets\n",
            "  warnings.warn(\"train_labels has been renamed targets\")\n",
            "/usr/local/lib/python3.6/dist-packages/torchvision/datasets/mnist.py:60: UserWarning: test_data has been renamed data\n",
            "  warnings.warn(\"test_data has been renamed data\")\n",
            "/usr/local/lib/python3.6/dist-packages/torchvision/datasets/mnist.py:50: UserWarning: test_labels has been renamed targets\n",
            "  warnings.warn(\"test_labels has been renamed targets\")\n"
          ],
          "name": "stderr"
        }
      ]
    },
    {
      "cell_type": "code",
      "metadata": {
        "id": "f_TmOTWdNZet",
        "colab_type": "code",
        "outputId": "b89a8a5a-695d-4533-e669-79412e8e6ee4",
        "colab": {
          "base_uri": "https://localhost:8080/",
          "height": 34
        }
      },
      "source": [
        "len(y_train), len(y_test)"
      ],
      "execution_count": 4,
      "outputs": [
        {
          "output_type": "execute_result",
          "data": {
            "text/plain": [
              "(60000, 10000)"
            ]
          },
          "metadata": {
            "tags": []
          },
          "execution_count": 4
        }
      ]
    },
    {
      "cell_type": "code",
      "metadata": {
        "id": "Zd-E4vIpNZe1",
        "colab_type": "code",
        "outputId": "48ff481b-f25a-4a12-d079-7f10664e96da",
        "colab": {
          "base_uri": "https://localhost:8080/",
          "height": 282
        }
      },
      "source": [
        "import matplotlib.pyplot as plt\n",
        "plt.imshow(X_train[0, :, :])\n",
        "plt.show()\n",
        "print(y_train[0])"
      ],
      "execution_count": 5,
      "outputs": [
        {
          "output_type": "display_data",
          "data": {
            "image/png": "[encoded data removed]",
            "text/plain": [
              "<Figure size 432x288 with 1 Axes>"
            ]
          },
          "metadata": {
            "tags": []
          }
        },
        {
          "output_type": "stream",
          "text": [
            "tensor(5)\n"
          ],
          "name": "stdout"
        }
      ]
    },
    {
      "cell_type": "code",
      "metadata": {
        "id": "Tf9LiDGuNZe6",
        "colab_type": "code",
        "colab": {}
      },
      "source": [
        "#добавляем размерность каналов\n",
        "X_train = X_train.unsqueeze(1).float()\n",
        "X_test = X_test.unsqueeze(1).float()"
      ],
      "execution_count": 0,
      "outputs": []
    },
    {
      "cell_type": "code",
      "metadata": {
        "id": "kxKAhEYHNZe-",
        "colab_type": "code",
        "outputId": "147a07df-83b7-44f2-f6e3-c066292bc3e1",
        "colab": {
          "base_uri": "https://localhost:8080/",
          "height": 34
        }
      },
      "source": [
        "X_train.shape"
      ],
      "execution_count": 7,
      "outputs": [
        {
          "output_type": "execute_result",
          "data": {
            "text/plain": [
              "torch.Size([60000, 1, 28, 28])"
            ]
          },
          "metadata": {
            "tags": []
          },
          "execution_count": 7
        }
      ]
    },
    {
      "cell_type": "code",
      "metadata": {
        "id": "xhsw9soDODel",
        "colab_type": "code",
        "colab": {}
      },
      "source": [
        "#создаем нейросеть, в отличие от LeNet заменяем функцию активации тангенс на ReLU, чтобы избежать затухания градиента\n",
        "#avg пулинг заменяем на max\n",
        "#свертки 5*5 заменяем на две последовательные 3*3 для сокращения вычислений и снижения риска увеличения loss\n",
        "#добавляем батч нормализацию для более быстрого обучения\n",
        "\n",
        "class LeNet5(torch.nn.Module):\n",
        "    def __init__(self,\n",
        "                 activation='ReLU',\n",
        "                 pooling='max',\n",
        "                 conv_size=3,\n",
        "                 use_batch_norm=True):\n",
        "        super(LeNet5, self).__init__()\n",
        "        \n",
        "                \n",
        "        self.conv1_1 = torch.nn.Conv2d(\n",
        "            in_channels=1, out_channels=6, kernel_size=3, padding=1)\n",
        "        self.conv1_2 = torch.nn.Conv2d(\n",
        "            in_channels=6, out_channels=6, kernel_size=3, padding=1)\n",
        "    \n",
        "        self.act1 = torch.nn.ReLU()\n",
        "        self.bn1 = torch.nn.BatchNorm2d(num_features=6)\n",
        "        self.pool1 = torch.nn.MaxPool2d(kernel_size=2, stride=2)\n",
        "       \n",
        "        \n",
        "   \n",
        "        self.conv2_1 = torch.nn.Conv2d(\n",
        "            in_channels=6, out_channels=16, kernel_size=3, padding=0)\n",
        "        self.conv2_2 = torch.nn.Conv2d(\n",
        "            in_channels=16, out_channels=16, kernel_size=3, padding=0)\n",
        "        \n",
        "        self.act2 = torch.nn.ReLU()\n",
        "        self.bn2 = torch.nn.BatchNorm2d(num_features=16)\n",
        "        self.pool2 = torch.nn.MaxPool2d(kernel_size=2, stride=2)\n",
        "        \n",
        "        self.fc1 = torch.nn.Linear(5 * 5 * 16, 120)\n",
        "        self.act3 = torch.nn.ReLU()\n",
        "    \n",
        "        self.fc2 = torch.nn.Linear(120, 150)\n",
        "        self.act4 = torch.nn.ReLU()\n",
        "        \n",
        "        self.fc3 = torch.nn.Linear(150, 10)\n",
        "    \n",
        "    def forward(self, x):\n",
        "        \n",
        "        x = self.conv1_2(self.conv1_1(x))\n",
        "        x = self.act1(x)\n",
        "        x = self.bn1(x)\n",
        "        x = self.pool1(x)\n",
        "        \n",
        "       \n",
        "        x = self.conv2_2(self.conv2_1(x))\n",
        "        x = self.act2(x)\n",
        "        x = self.bn2(x)\n",
        "        x = self.pool2(x)\n",
        "        \n",
        "        x = x.view(x.size(0), x.size(1) * x.size(2) * x.size(3))\n",
        "        x = self.fc1(x)\n",
        "        x = self.act3(x)\n",
        "        x = self.fc2(x)\n",
        "        x = self.act4(x)\n",
        "        x = self.fc3(x)\n",
        "        \n",
        "        return x\n",
        "lenet5 = LeNet5()"
      ],
      "execution_count": 0,
      "outputs": []
    },
    {
      "cell_type": "code",
      "metadata": {
        "id": "XfA9gqSdNZfQ",
        "colab_type": "code",
        "outputId": "5ae4d9b5-af52-4f5b-e895-e9b0539764c9",
        "colab": {
          "base_uri": "https://localhost:8080/",
          "height": 176
        }
      },
      "source": [
        "#переводим на видеокарту\n",
        "device = torch.device('cuda:0' if torch.cuda.is_available() else 'cpu')\n",
        "lenet5 = lenet5.to(device)\n",
        "\n",
        "#в качестве функции потерь - бинарная кросс-энтропия\n",
        "#град спуск осуществляется с помощью оптимизатора Адама со стандартными параметрами\n",
        "loss = torch.nn.CrossEntropyLoss()\n",
        "optimizer = torch.optim.Adam(lenet5.parameters(), lr=1.0e-3)\n",
        "\n",
        "#аугментация. увеличиваем датасет с помощью картинок с шумом\n",
        "from torchvision import transforms, models\n",
        "train_transforms = transforms.Compose([\n",
        "    transforms.Lambda(lambda x: x[np.random.permutation(3), :, :]),\n",
        "    transforms.RandomErasing()])\n",
        "\n",
        "\n",
        "batch_size = 100\n",
        "\n",
        "test_accuracy_history = []\n",
        "test_loss_history = []\n",
        "\n",
        "X_test = X_test.to(device)\n",
        "y_test = y_test.to(device)\n",
        "\n",
        "#цикл градиентного спуска (расчет, шаг и обнуление после каждого шага)\n",
        "\n",
        "for epoch in range(9):\n",
        "    order = np.random.permutation(len(X_train))\n",
        "    for start_index in range(0, len(X_train), batch_size):\n",
        "        optimizer.zero_grad()\n",
        "        lenet5.train()\n",
        "\n",
        "        batch_indexes = order[start_index:start_index+batch_size]\n",
        "\n",
        "        X_batch = X_train[batch_indexes].to(device)\n",
        "        y_batch = y_train[batch_indexes].to(device)\n",
        "\n",
        "        preds = lenet5.forward(X_batch) \n",
        "\n",
        "        loss_value = loss(preds, y_batch)\n",
        "        loss_value.backward()\n",
        "\n",
        "        optimizer.step()\n",
        "\n",
        "#расчет предсказаний, подсчет accuracy, loss\n",
        "\n",
        "    lenet5.eval()\n",
        "    test_preds = lenet5.forward(X_test)\n",
        "    test_loss_history.append(loss(test_preds, y_test).data.cpu())\n",
        "\n",
        "    accuracy = (test_preds.argmax(dim=1) == y_test).float().mean().data.cpu()\n",
        "    test_accuracy_history.append(accuracy)\n",
        "\n",
        "    print(accuracy)\n",
        "   "
      ],
      "execution_count": 12,
      "outputs": [
        {
          "output_type": "stream",
          "text": [
            "tensor(0.9909)\n",
            "tensor(0.9916)\n",
            "tensor(0.9920)\n",
            "tensor(0.9892)\n",
            "tensor(0.9911)\n",
            "tensor(0.9920)\n",
            "tensor(0.9902)\n",
            "tensor(0.9925)\n",
            "tensor(0.9901)\n"
          ],
          "name": "stdout"
        }
      ]
    },
    {
      "cell_type": "code",
      "metadata": {
        "id": "4FDtagQvNZfU",
        "colab_type": "code",
        "colab": {
          "base_uri": "https://localhost:8080/",
          "height": 282
        },
        "outputId": "ac3d90a2-28a7-4c25-8f8a-ed99f3c28e9b"
      },
      "source": [
        "#графики динамики accuracy и loss в течение эпох\n",
        "plt.plot(test_accuracy_history)\n",
        "plt.plot(test_loss_history)\n",
        "\n"
      ],
      "execution_count": 13,
      "outputs": [
        {
          "output_type": "execute_result",
          "data": {
            "text/plain": [
              "[<matplotlib.lines.Line2D at 0x7f09f82448d0>]"
            ]
          },
          "metadata": {
            "tags": []
          },
          "execution_count": 13
        },
        {
          "output_type": "display_data",
          "data": {
            "image/png": "[encoded data removed]",
            "text/plain": [
              "<Figure size 432x288 with 1 Axes>"
            ]
          },
          "metadata": {
            "tags": []
          }
        }
      ]
    },
    {
      "cell_type": "code",
      "metadata": {
        "id": "-NPo_b_F1gBj",
        "colab_type": "code",
        "colab": {}
      },
      "source": [
        ""
      ],
      "execution_count": 0,
      "outputs": []
    }
  ]
}